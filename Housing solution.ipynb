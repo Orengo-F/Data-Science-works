{
 "cells": [
  {
   "cell_type": "code",
   "execution_count": null,
   "id": "0385ca96",
   "metadata": {},
   "outputs": [],
   "source": [
    "#PART A"
   ]
  },
  {
   "cell_type": "code",
   "execution_count": 5,
   "id": "1cdec02b",
   "metadata": {},
   "outputs": [
    {
     "name": "stdout",
     "output_type": "stream",
     "text": [
      "Enter your annual salary: 80000\n",
      "Enter the percent of your salary to save, as a decimal: .15\n",
      "Enter the cost of your dream home: 500000\n",
      "Number of months:  105\n"
     ]
    }
   ],
   "source": [
    "#Ask for user input for their annual salary, portion they have saved and the cost they have saved and their dream home\n",
    "annual_salary = float(input(\"Enter your annual salary: \"))\n",
    "portion_saved=float(input(\"Enter the percent of your salary to save, as a decimal: \"))\n",
    "total_cost=float(input(\"Enter the cost of your dream home: \"))\n",
    "\n",
    "#declaration of variables\n",
    "portion_down_payment=0.25*total_cost\n",
    "current_savings=0\n",
    "r=0.04\n",
    "annual_return=(current_savings*r)/12\n",
    "monthly_salary=annual_salary/12\n",
    "time=0\n",
    "portion_saved_monthly=portion_saved*monthly_salary\n",
    "\n",
    "#iteration\n",
    "while(current_savings<=portion_down_payment):\n",
    "    time=time+1\n",
    "    current_savings=current_savings+current_savings*r/12+portion_saved_monthly\n",
    "print(\"Number of months: \",time)\n",
    "\n"
   ]
  },
  {
   "cell_type": "code",
   "execution_count": null,
   "id": "91f78ef2",
   "metadata": {},
   "outputs": [],
   "source": [
    "#PART B"
   ]
  },
  {
   "cell_type": "code",
   "execution_count": 6,
   "id": "0e6d83e6",
   "metadata": {},
   "outputs": [
    {
     "name": "stdout",
     "output_type": "stream",
     "text": [
      "Enter your annual salary: 75000\n",
      "Enter the percent of your salary to save, as a decimal: .05\n",
      "Enter the cost of your dream home: 1500000\n",
      "Enter the semi_annual raise, as a decimal: .05\n",
      "Number of months:  261\n"
     ]
    }
   ],
   "source": [
    "#Ask for user input for their annual salary, portion they have saved and the cost they have saved and their dream home\n",
    "annual_salary = float(input(\"Enter your annual salary: \"))\n",
    "portion_saved=float(input(\"Enter the percent of your salary to save, as a decimal: \"))\n",
    "total_cost=float(input(\"Enter the cost of your dream home: \"))\n",
    "semi_annual_raise=float(input(\"Enter the semi_annual raise, as a decimal: \"))\n",
    "#declaration of variables\n",
    "portion_down_payment=0.25*total_cost\n",
    "current_savings=0\n",
    "r=0.04\n",
    "annual_return=(current_savings*r)/12\n",
    "monthly_salary=annual_salary/12\n",
    "time=0\n",
    "portion_saved_monthly=portion_saved*monthly_salary\n",
    "\n",
    "#iteration\n",
    "while(current_savings<=portion_down_payment):\n",
    "    current_savings=current_savings+current_savings*r/12+portion_saved_monthly\n",
    "    time=time+1\n",
    "    if time%6==0:\n",
    "        annual_salary=annual_salary+(annual_salary*semi_annual_raise)\n",
    "        monthly_salary=annual_salary/12\n",
    "        portion_saved_monthly=portion_saved*monthly_salary\n",
    "print(\"Number of months: \",time)\n",
    "\n"
   ]
  },
  {
   "cell_type": "code",
   "execution_count": null,
   "id": "f9f73ee5",
   "metadata": {},
   "outputs": [],
   "source": [
    "#PART C\n"
   ]
  },
  {
   "cell_type": "code",
   "execution_count": 7,
   "id": "1f2a3d79",
   "metadata": {},
   "outputs": [
    {
     "name": "stdout",
     "output_type": "stream",
     "text": [
      "Enter the starting salary: 10000\n",
      "It is not possible to pay this down payment in three years\n"
     ]
    }
   ],
   "source": [
    "#Ask for user input their starting salary\n",
    "starting_salary=float(input(\"Enter the starting salary: \"))\n",
    "#declaration of variables\n",
    "total_cost=1000000\n",
    "portion_down_payment=0.25*total_cost\n",
    "current_savings=0\n",
    "r=0.04\n",
    "annual_salary=starting_salary\n",
    "annual_return=(current_savings*r)/12\n",
    "monthly_salary=annual_salary/12\n",
    "time=0\n",
    "semi_annual_raise=0.07\n",
    "steps=0\n",
    "low=0\n",
    "high=10000\n",
    "rate=(low+high)//2\n",
    "\n",
    "while abs(current_savings-total_cost*portion_down_payment)>=100:\n",
    "    current_savings=0\n",
    "    starting_salary=starting_salary\n",
    "    new_rate=rate/10000\n",
    "    for time in range(0,37):\n",
    "        if time%6==0 and time>0:\n",
    "            starting_salary=starting_salary+starting_salary*semi_annual_raise\n",
    "        monthly_salary=starting_salary/12\n",
    "        current_savings=current_savings+monthly_salary*rate+current_savings*r/12\n",
    "            \n",
    "    if current_savings<=total_cost*portion_down_payment:\n",
    "        low= rate\n",
    "    else:\n",
    "        high=rate\n",
    "    rate=(high+low)//2\n",
    "    steps=steps+1\n",
    "    if steps>13:\n",
    "        break\n",
    "    \n",
    "\n",
    "if steps>13:\n",
    "    print(\"It is not possible to pay this down payment in three years\")\n",
    "    \n",
    "else:\n",
    "    print(\"Best savings rate: \",new_rate)\n",
    "    print(\"Steps in bisection search: \",steps)\n",
    "    \n",
    "    \n",
    "#My code does not fully work, I cant find the problem "
   ]
  },
  {
   "cell_type": "code",
   "execution_count": null,
   "id": "3fc69015",
   "metadata": {},
   "outputs": [],
   "source": []
  }
 ],
 "metadata": {
  "kernelspec": {
   "display_name": "Python 3 (ipykernel)",
   "language": "python",
   "name": "python3"
  },
  "language_info": {
   "codemirror_mode": {
    "name": "ipython",
    "version": 3
   },
   "file_extension": ".py",
   "mimetype": "text/x-python",
   "name": "python",
   "nbconvert_exporter": "python",
   "pygments_lexer": "ipython3",
   "version": "3.9.12"
  }
 },
 "nbformat": 4,
 "nbformat_minor": 5
}
