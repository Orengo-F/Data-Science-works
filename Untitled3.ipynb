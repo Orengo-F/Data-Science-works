{
 "cells": [
  {
   "cell_type": "code",
   "execution_count": null,
   "id": "a8fc960f",
   "metadata": {},
   "outputs": [],
   "source": [
    "#PART A"
   ]
  },
  {
   "cell_type": "code",
   "execution_count": null,
   "id": "003a2634",
   "metadata": {},
   "outputs": [],
   "source": [
    "#Ask for user input their starting salary\n",
    "starting_salary=float(input(\"Enter the starting salary: \"))\n",
    "#declaration of variables\n",
    "total_cost=1000000\n",
    "portion_down_payment=0.25*total_cost\n",
    "current_savings=0\n",
    "r=0.04\n",
    "annual_salary=starting_salary\n",
    "annual_return=(current_savings*r)/12\n",
    "monthly_salary=annual_salary/12\n",
    "time=0\n",
    "semi_annual_raise=0.07\n",
    "steps=0\n",
    "low=0\n",
    "high=10000\n",
    "rate=(low+high)//2\n",
    "\n",
    "while abs(current_savings-total_cost*portion_down_payment)>=100:\n",
    "    current_savings=0\n",
    "    starting_salary=starting_salary\n",
    "    new_rate=rate/10000\n",
    "    for time in range(0,37):\n",
    "        if time%6==0 and time>0:\n",
    "            starting_salary=starting_salary+starting_salary*semi_annual_raise\n",
    "        monthly_salary=starting_salary/12\n",
    "        current_savings=current_savings+monthly_salary*rate+current_savings*r/12\n",
    "            \n",
    "    if current_savings<=total_cost*portion_down_payment:\n",
    "        low= rate\n",
    "    else:\n",
    "        high=rate\n",
    "    rate=(high+low)//2\n",
    "    steps=steps+1\n",
    "    if steps>13:\n",
    "        break\n",
    "    \n",
    "\n",
    "if steps>13:\n",
    "    print(\"It is not possible to pay this down payment in three years\")\n",
    "    \n",
    "else:\n",
    "    print(\"Best savings rate: \",new_rate)\n",
    "    print(\"Steps in bisection search: \",steps)\n",
    "    \n",
    "    \n",
    "#My code does not fully work, I cant find the problem "
   ]
  },
  {
   "cell_type": "code",
   "execution_count": null,
   "id": "7c6b1ccf",
   "metadata": {},
   "outputs": [],
   "source": [
    "#PART B"
   ]
  },
  {
   "cell_type": "code",
   "execution_count": 2,
   "id": "4b0ed1c7",
   "metadata": {},
   "outputs": [
    {
     "ename": "KeyboardInterrupt",
     "evalue": "Interrupted by user",
     "output_type": "error",
     "traceback": [
      "\u001b[1;31m---------------------------------------------------------------------------\u001b[0m",
      "\u001b[1;31mKeyboardInterrupt\u001b[0m                         Traceback (most recent call last)",
      "Input \u001b[1;32mIn [2]\u001b[0m, in \u001b[0;36m<cell line: 2>\u001b[1;34m()\u001b[0m\n\u001b[0;32m      1\u001b[0m \u001b[38;5;66;03m#Ask for user input for their annual salary, portion they have saved and the cost they have saved and their dream home\u001b[39;00m\n\u001b[1;32m----> 2\u001b[0m annual_salary \u001b[38;5;241m=\u001b[39m \u001b[38;5;28mfloat\u001b[39m(\u001b[38;5;28;43minput\u001b[39;49m\u001b[43m(\u001b[49m\u001b[38;5;124;43m\"\u001b[39;49m\u001b[38;5;124;43mEnter your annual salary: \u001b[39;49m\u001b[38;5;124;43m\"\u001b[39;49m\u001b[43m)\u001b[49m)\n\u001b[0;32m      3\u001b[0m portion_saved\u001b[38;5;241m=\u001b[39m\u001b[38;5;28mfloat\u001b[39m(\u001b[38;5;28minput\u001b[39m(\u001b[38;5;124m\"\u001b[39m\u001b[38;5;124mEnter the percent of your salary to save, as a decimal: \u001b[39m\u001b[38;5;124m\"\u001b[39m))\n\u001b[0;32m      4\u001b[0m total_cost\u001b[38;5;241m=\u001b[39m\u001b[38;5;28mfloat\u001b[39m(\u001b[38;5;28minput\u001b[39m(\u001b[38;5;124m\"\u001b[39m\u001b[38;5;124mEnter the cost of your dream home: \u001b[39m\u001b[38;5;124m\"\u001b[39m))\n",
      "File \u001b[1;32m~\\anaconda3\\lib\\site-packages\\ipykernel\\kernelbase.py:1075\u001b[0m, in \u001b[0;36mKernel.raw_input\u001b[1;34m(self, prompt)\u001b[0m\n\u001b[0;32m   1071\u001b[0m \u001b[38;5;28;01mif\u001b[39;00m \u001b[38;5;129;01mnot\u001b[39;00m \u001b[38;5;28mself\u001b[39m\u001b[38;5;241m.\u001b[39m_allow_stdin:\n\u001b[0;32m   1072\u001b[0m     \u001b[38;5;28;01mraise\u001b[39;00m StdinNotImplementedError(\n\u001b[0;32m   1073\u001b[0m         \u001b[38;5;124m\"\u001b[39m\u001b[38;5;124mraw_input was called, but this frontend does not support input requests.\u001b[39m\u001b[38;5;124m\"\u001b[39m\n\u001b[0;32m   1074\u001b[0m     )\n\u001b[1;32m-> 1075\u001b[0m \u001b[38;5;28;01mreturn\u001b[39;00m \u001b[38;5;28;43mself\u001b[39;49m\u001b[38;5;241;43m.\u001b[39;49m\u001b[43m_input_request\u001b[49m\u001b[43m(\u001b[49m\n\u001b[0;32m   1076\u001b[0m \u001b[43m    \u001b[49m\u001b[38;5;28;43mstr\u001b[39;49m\u001b[43m(\u001b[49m\u001b[43mprompt\u001b[49m\u001b[43m)\u001b[49m\u001b[43m,\u001b[49m\n\u001b[0;32m   1077\u001b[0m \u001b[43m    \u001b[49m\u001b[38;5;28;43mself\u001b[39;49m\u001b[38;5;241;43m.\u001b[39;49m\u001b[43m_parent_ident\u001b[49m\u001b[43m[\u001b[49m\u001b[38;5;124;43m\"\u001b[39;49m\u001b[38;5;124;43mshell\u001b[39;49m\u001b[38;5;124;43m\"\u001b[39;49m\u001b[43m]\u001b[49m\u001b[43m,\u001b[49m\n\u001b[0;32m   1078\u001b[0m \u001b[43m    \u001b[49m\u001b[38;5;28;43mself\u001b[39;49m\u001b[38;5;241;43m.\u001b[39;49m\u001b[43mget_parent\u001b[49m\u001b[43m(\u001b[49m\u001b[38;5;124;43m\"\u001b[39;49m\u001b[38;5;124;43mshell\u001b[39;49m\u001b[38;5;124;43m\"\u001b[39;49m\u001b[43m)\u001b[49m\u001b[43m,\u001b[49m\n\u001b[0;32m   1079\u001b[0m \u001b[43m    \u001b[49m\u001b[43mpassword\u001b[49m\u001b[38;5;241;43m=\u001b[39;49m\u001b[38;5;28;43;01mFalse\u001b[39;49;00m\u001b[43m,\u001b[49m\n\u001b[0;32m   1080\u001b[0m \u001b[43m\u001b[49m\u001b[43m)\u001b[49m\n",
      "File \u001b[1;32m~\\anaconda3\\lib\\site-packages\\ipykernel\\kernelbase.py:1120\u001b[0m, in \u001b[0;36mKernel._input_request\u001b[1;34m(self, prompt, ident, parent, password)\u001b[0m\n\u001b[0;32m   1117\u001b[0m             \u001b[38;5;28;01mbreak\u001b[39;00m\n\u001b[0;32m   1118\u001b[0m \u001b[38;5;28;01mexcept\u001b[39;00m \u001b[38;5;167;01mKeyboardInterrupt\u001b[39;00m:\n\u001b[0;32m   1119\u001b[0m     \u001b[38;5;66;03m# re-raise KeyboardInterrupt, to truncate traceback\u001b[39;00m\n\u001b[1;32m-> 1120\u001b[0m     \u001b[38;5;28;01mraise\u001b[39;00m \u001b[38;5;167;01mKeyboardInterrupt\u001b[39;00m(\u001b[38;5;124m\"\u001b[39m\u001b[38;5;124mInterrupted by user\u001b[39m\u001b[38;5;124m\"\u001b[39m) \u001b[38;5;28;01mfrom\u001b[39;00m \u001b[38;5;28mNone\u001b[39m\n\u001b[0;32m   1121\u001b[0m \u001b[38;5;28;01mexcept\u001b[39;00m \u001b[38;5;167;01mException\u001b[39;00m:\n\u001b[0;32m   1122\u001b[0m     \u001b[38;5;28mself\u001b[39m\u001b[38;5;241m.\u001b[39mlog\u001b[38;5;241m.\u001b[39mwarning(\u001b[38;5;124m\"\u001b[39m\u001b[38;5;124mInvalid Message:\u001b[39m\u001b[38;5;124m\"\u001b[39m, exc_info\u001b[38;5;241m=\u001b[39m\u001b[38;5;28;01mTrue\u001b[39;00m)\n",
      "\u001b[1;31mKeyboardInterrupt\u001b[0m: Interrupted by user"
     ]
    }
   ],
   "source": [
    "#Ask for user input for their annual salary, portion they have saved and the cost they have saved and their dream home\n",
    "annual_salary = float(input(\"Enter your annual salary: \"))\n",
    "portion_saved=float(input(\"Enter the percent of your salary to save, as a decimal: \"))\n",
    "total_cost=float(input(\"Enter the cost of your dream home: \"))\n",
    "semi_annual_raise=float(input(\"Enter the semi_annual raise, as a decimal: \"))\n",
    "#declaration of variables\n",
    "portion_down_payment=0.25*total_cost\n",
    "current_savings=0\n",
    "r=0.04\n",
    "annual_return=(current_savings*r)/12\n",
    "monthly_salary=annual_salary/12\n",
    "time=0\n",
    "portion_saved_monthly=portion_saved*monthly_salary\n",
    "\n",
    "#iteration\n",
    "while(current_savings<=portion_down_payment):\n",
    "    current_savings=current_savings+current_savings*r/12+portion_saved_monthly\n",
    "    time=time+1\n",
    "    if time%6==0:\n",
    "        annual_salary=annual_salary+(annual_salary*semi_annual_raise)\n",
    "        monthly_salary=annual_salary/12\n",
    "        portion_saved_monthly=portion_saved*monthly_salary\n",
    "print(\"Number of months: \",time)\n",
    "\n"
   ]
  },
  {
   "cell_type": "code",
   "execution_count": null,
   "id": "9758ff40",
   "metadata": {},
   "outputs": [],
   "source": [
    "#PART C\n"
   ]
  },
  {
   "cell_type": "code",
   "execution_count": 3,
   "id": "6f142ca5",
   "metadata": {},
   "outputs": [
    {
     "ename": "KeyboardInterrupt",
     "evalue": "Interrupted by user",
     "output_type": "error",
     "traceback": [
      "\u001b[1;31m---------------------------------------------------------------------------\u001b[0m",
      "\u001b[1;31mKeyboardInterrupt\u001b[0m                         Traceback (most recent call last)",
      "Input \u001b[1;32mIn [3]\u001b[0m, in \u001b[0;36m<cell line: 2>\u001b[1;34m()\u001b[0m\n\u001b[0;32m      1\u001b[0m \u001b[38;5;66;03m#Ask for user input their starting salary\u001b[39;00m\n\u001b[1;32m----> 2\u001b[0m starting_salary\u001b[38;5;241m=\u001b[39m\u001b[38;5;28mfloat\u001b[39m(\u001b[38;5;28;43minput\u001b[39;49m\u001b[43m(\u001b[49m\u001b[38;5;124;43m\"\u001b[39;49m\u001b[38;5;124;43mEnter the starting salary: \u001b[39;49m\u001b[38;5;124;43m\"\u001b[39;49m\u001b[43m)\u001b[49m)\n\u001b[0;32m      3\u001b[0m \u001b[38;5;66;03m#declaration of variables\u001b[39;00m\n\u001b[0;32m      4\u001b[0m total_cost\u001b[38;5;241m=\u001b[39m\u001b[38;5;241m1000000\u001b[39m\n",
      "File \u001b[1;32m~\\anaconda3\\lib\\site-packages\\ipykernel\\kernelbase.py:1075\u001b[0m, in \u001b[0;36mKernel.raw_input\u001b[1;34m(self, prompt)\u001b[0m\n\u001b[0;32m   1071\u001b[0m \u001b[38;5;28;01mif\u001b[39;00m \u001b[38;5;129;01mnot\u001b[39;00m \u001b[38;5;28mself\u001b[39m\u001b[38;5;241m.\u001b[39m_allow_stdin:\n\u001b[0;32m   1072\u001b[0m     \u001b[38;5;28;01mraise\u001b[39;00m StdinNotImplementedError(\n\u001b[0;32m   1073\u001b[0m         \u001b[38;5;124m\"\u001b[39m\u001b[38;5;124mraw_input was called, but this frontend does not support input requests.\u001b[39m\u001b[38;5;124m\"\u001b[39m\n\u001b[0;32m   1074\u001b[0m     )\n\u001b[1;32m-> 1075\u001b[0m \u001b[38;5;28;01mreturn\u001b[39;00m \u001b[38;5;28;43mself\u001b[39;49m\u001b[38;5;241;43m.\u001b[39;49m\u001b[43m_input_request\u001b[49m\u001b[43m(\u001b[49m\n\u001b[0;32m   1076\u001b[0m \u001b[43m    \u001b[49m\u001b[38;5;28;43mstr\u001b[39;49m\u001b[43m(\u001b[49m\u001b[43mprompt\u001b[49m\u001b[43m)\u001b[49m\u001b[43m,\u001b[49m\n\u001b[0;32m   1077\u001b[0m \u001b[43m    \u001b[49m\u001b[38;5;28;43mself\u001b[39;49m\u001b[38;5;241;43m.\u001b[39;49m\u001b[43m_parent_ident\u001b[49m\u001b[43m[\u001b[49m\u001b[38;5;124;43m\"\u001b[39;49m\u001b[38;5;124;43mshell\u001b[39;49m\u001b[38;5;124;43m\"\u001b[39;49m\u001b[43m]\u001b[49m\u001b[43m,\u001b[49m\n\u001b[0;32m   1078\u001b[0m \u001b[43m    \u001b[49m\u001b[38;5;28;43mself\u001b[39;49m\u001b[38;5;241;43m.\u001b[39;49m\u001b[43mget_parent\u001b[49m\u001b[43m(\u001b[49m\u001b[38;5;124;43m\"\u001b[39;49m\u001b[38;5;124;43mshell\u001b[39;49m\u001b[38;5;124;43m\"\u001b[39;49m\u001b[43m)\u001b[49m\u001b[43m,\u001b[49m\n\u001b[0;32m   1079\u001b[0m \u001b[43m    \u001b[49m\u001b[43mpassword\u001b[49m\u001b[38;5;241;43m=\u001b[39;49m\u001b[38;5;28;43;01mFalse\u001b[39;49;00m\u001b[43m,\u001b[49m\n\u001b[0;32m   1080\u001b[0m \u001b[43m\u001b[49m\u001b[43m)\u001b[49m\n",
      "File \u001b[1;32m~\\anaconda3\\lib\\site-packages\\ipykernel\\kernelbase.py:1120\u001b[0m, in \u001b[0;36mKernel._input_request\u001b[1;34m(self, prompt, ident, parent, password)\u001b[0m\n\u001b[0;32m   1117\u001b[0m             \u001b[38;5;28;01mbreak\u001b[39;00m\n\u001b[0;32m   1118\u001b[0m \u001b[38;5;28;01mexcept\u001b[39;00m \u001b[38;5;167;01mKeyboardInterrupt\u001b[39;00m:\n\u001b[0;32m   1119\u001b[0m     \u001b[38;5;66;03m# re-raise KeyboardInterrupt, to truncate traceback\u001b[39;00m\n\u001b[1;32m-> 1120\u001b[0m     \u001b[38;5;28;01mraise\u001b[39;00m \u001b[38;5;167;01mKeyboardInterrupt\u001b[39;00m(\u001b[38;5;124m\"\u001b[39m\u001b[38;5;124mInterrupted by user\u001b[39m\u001b[38;5;124m\"\u001b[39m) \u001b[38;5;28;01mfrom\u001b[39;00m \u001b[38;5;28mNone\u001b[39m\n\u001b[0;32m   1121\u001b[0m \u001b[38;5;28;01mexcept\u001b[39;00m \u001b[38;5;167;01mException\u001b[39;00m:\n\u001b[0;32m   1122\u001b[0m     \u001b[38;5;28mself\u001b[39m\u001b[38;5;241m.\u001b[39mlog\u001b[38;5;241m.\u001b[39mwarning(\u001b[38;5;124m\"\u001b[39m\u001b[38;5;124mInvalid Message:\u001b[39m\u001b[38;5;124m\"\u001b[39m, exc_info\u001b[38;5;241m=\u001b[39m\u001b[38;5;28;01mTrue\u001b[39;00m)\n",
      "\u001b[1;31mKeyboardInterrupt\u001b[0m: Interrupted by user"
     ]
    }
   ],
   "source": [
    "#Ask for user input their starting salary\n",
    "starting_salary=float(input(\"Enter the starting salary: \"))\n",
    "#declaration of variables\n",
    "total_cost=1000000\n",
    "portion_down_payment=0.25*total_cost\n",
    "current_savings=0\n",
    "r=0.04\n",
    "annual_salary=starting_salary\n",
    "annual_return=(current_savings*r)/12\n",
    "monthly_salary=annual_salary/12\n",
    "time=0\n",
    "semi_annual_raise=0.07\n",
    "steps=0\n",
    "low=0\n",
    "high=10000\n",
    "rate=(low+high)//2\n",
    "\n",
    "while abs(current_savings-total_cost*portion_down_payment)>=100:\n",
    "    current_savings=0\n",
    "    starting_salary=starting_salary\n",
    "    new_rate=rate/10000\n",
    "    for time in range(0,37):\n",
    "        if time%6==0 and time>0:\n",
    "            starting_salary=starting_salary+starting_salary*semi_annual_raise\n",
    "        monthly_salary=starting_salary/12\n",
    "        current_savings=current_savings+monthly_salary*rate+current_savings*r/12\n",
    "            \n",
    "    if current_savings<=total_cost*portion_down_payment:\n",
    "        low= rate\n",
    "    else:\n",
    "        high=rate\n",
    "    rate=(high+low)//2\n",
    "    steps=steps+1\n",
    "    if steps>13:\n",
    "        break\n",
    "    \n",
    "\n",
    "if steps>13:\n",
    "    print(\"It is not possible to pay this down payment in three years\")\n",
    "    \n",
    "else:\n",
    "    print(\"Best savings rate: \",new_rate)\n",
    "    print(\"Steps in bisection search: \",steps)\n",
    "    \n",
    "    \n",
    "#My code does not fully work, I cant find the problem "
   ]
  },
  {
   "cell_type": "code",
   "execution_count": null,
   "id": "b972f2e5",
   "metadata": {},
   "outputs": [],
   "source": []
  }
 ],
 "metadata": {
  "kernelspec": {
   "display_name": "Python 3 (ipykernel)",
   "language": "python",
   "name": "python3"
  },
  "language_info": {
   "codemirror_mode": {
    "name": "ipython",
    "version": 3
   },
   "file_extension": ".py",
   "mimetype": "text/x-python",
   "name": "python",
   "nbconvert_exporter": "python",
   "pygments_lexer": "ipython3",
   "version": "3.9.12"
  }
 },
 "nbformat": 4,
 "nbformat_minor": 5
}
