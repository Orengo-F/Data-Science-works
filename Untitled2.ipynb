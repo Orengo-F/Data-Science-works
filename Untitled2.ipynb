{
 "cells": [
  {
   "cell_type": "code",
   "execution_count": 40,
   "id": "a7e605cc",
   "metadata": {},
   "outputs": [
    {
     "name": "stdout",
     "output_type": "stream",
     "text": [
      "Enter the starting salary: 3000000\n",
      "It is not possible to pay this down payment in three years\n"
     ]
    }
   ],
   "source": [
    "#Ask for user input their starting salary\n",
    "starting_salary=float(input(\"Enter the starting salary: \"))\n",
    "#declaration of variables\n",
    "total_cost=1000000\n",
    "portion_down_payment=0.25*total_cost\n",
    "current_savings=0\n",
    "r=0.04\n",
    "annual_salary=starting_salary\n",
    "annual_return=(current_savings*r)/12\n",
    "monthly_salary=annual_salary/12\n",
    "time=0\n",
    "semi_annual_raise=0.07\n",
    "steps=0\n",
    "low=0\n",
    "high=10000\n",
    "rate=(low+high)//2\n",
    "\n",
    "while abs(current_savings-total_cost*portion_down_payment)>=100:\n",
    "    current_savings=0\n",
    "    starting_salary=starting_salary\n",
    "    best_rate=rate/10000\n",
    "    for time in range(0,37):\n",
    "        if time%6==0 and time>0:\n",
    "            starting_salary=starting_salary+starting_salary*semi_annual_raise\n",
    "        monthly_salary=starting_salary/12\n",
    "        current_savings=current_savings+monthly_salary*rate+current_savings*r/12\n",
    "            \n",
    "    if current_savings<=total_cost*portion_down_payment:\n",
    "        low= rate\n",
    "    else:\n",
    "        high=rate\n",
    "    rate=(high+low)//2\n",
    "    steps=steps+1\n",
    "    if steps>13:\n",
    "        break\n",
    "    \n",
    "\n",
    "if steps>13:\n",
    "    print(\"It is not possible to pay this down payment in three years\")\n",
    "    \n",
    "else:\n",
    "    print(\"Best savings rate: \",new_rate)\n",
    "    print(\"Steps in bisection search: \",steps)\n",
    "    \n",
    "    \n",
    "#My code does not fully work, I cant find the problem "
   ]
  },
  {
   "cell_type": "code",
   "execution_count": null,
   "id": "68c5d1d5",
   "metadata": {},
   "outputs": [],
   "source": []
  },
  {
   "cell_type": "code",
   "execution_count": 28,
   "id": "d36c2b49",
   "metadata": {},
   "outputs": [
    {
     "name": "stdout",
     "output_type": "stream",
     "text": [
      "Enter the starting salary: 10000\n"
     ]
    },
    {
     "ename": "KeyboardInterrupt",
     "evalue": "",
     "output_type": "error",
     "traceback": [
      "\u001b[1;31m---------------------------------------------------------------------------\u001b[0m",
      "\u001b[1;31mKeyboardInterrupt\u001b[0m                         Traceback (most recent call last)",
      "Input \u001b[1;32mIn [28]\u001b[0m, in \u001b[0;36m<cell line: 18>\u001b[1;34m()\u001b[0m\n\u001b[0;32m     20\u001b[0m starting_salary\u001b[38;5;241m=\u001b[39mstarting_salary\n\u001b[0;32m     21\u001b[0m best_rate\u001b[38;5;241m=\u001b[39mrate\u001b[38;5;241m/\u001b[39m\u001b[38;5;241m10000\u001b[39m\n\u001b[1;32m---> 22\u001b[0m \u001b[38;5;28;01mfor\u001b[39;00m time \u001b[38;5;129;01min\u001b[39;00m \u001b[38;5;28;43mrange\u001b[39;49m(\u001b[38;5;241m0\u001b[39m,\u001b[38;5;241m37\u001b[39m):\n\u001b[0;32m     23\u001b[0m     \u001b[38;5;28;01mif\u001b[39;00m time\u001b[38;5;241m%\u001b[39m\u001b[38;5;241m6\u001b[39m\u001b[38;5;241m==\u001b[39m\u001b[38;5;241m0\u001b[39m \u001b[38;5;129;01mand\u001b[39;00m time\u001b[38;5;241m>\u001b[39m\u001b[38;5;241m0\u001b[39m:\n\u001b[0;32m     24\u001b[0m         starting_salary\u001b[38;5;241m=\u001b[39mstarting_salary\u001b[38;5;241m+\u001b[39mstarting_salary\u001b[38;5;241m*\u001b[39msemi_annual_raise\n",
      "\u001b[1;31mKeyboardInterrupt\u001b[0m: "
     ]
    }
   ],
   "source": [
    "#Ask for user input for their annual salary, portion they have saved and the cost they have saved and their dream home\n",
    "starting_salary=float(input(\"Enter the starting salary: \"))\n",
    "#declaration of variables\n",
    "total_cost=1000000\n",
    "portion_down_payment=0.25*total_cost\n",
    "current_savings=0\n",
    "r=0.04\n",
    "annual_salary=starting_salary\n",
    "annual_return=(current_savings*r)/12\n",
    "monthly_salary=annual_salary/12\n",
    "time=0\n",
    "semi_annual_raise=0.07\n",
    "steps=0\n",
    "low=0\n",
    "high=10000\n",
    "rate=(low+high)//2\n",
    "\n",
    "while abs(current_savings-total_cost*portion_down_payment)>=100:\n",
    "    current_savings=0\n",
    "    starting_salary=starting_salary\n",
    "    best_rate=rate/10000\n",
    "    for time in range(0,37):\n",
    "        if time%6==0 and time>0:\n",
    "            starting_salary=starting_salary+starting_salary*semi_annual_raise\n",
    "        monthly_salary=starting_salary/12\n",
    "        current_savings=current_savings+monthly_salary*rate+current_savings*r/12\n",
    "            \n",
    "    if current_savings<=total_cost*portion_down_payment:\n",
    "        low= rate\n",
    "    else:\n",
    "        high=rate\n",
    "    rate=(high+low)//2\n",
    "    steps=steps+1\n",
    "    \n",
    "\n",
    "if steps>13:\n",
    "    print(\"It is not possible to pay this down payment in three years\")\n",
    "else:\n",
    "    print(\"Best savings rate: \",rate)\n",
    "    print(\"Steps in bisection search: \",steps)"
   ]
  },
  {
   "cell_type": "code",
   "execution_count": 33,
   "id": "1d3afd75",
   "metadata": {},
   "outputs": [
    {
     "name": "stdout",
     "output_type": "stream",
     "text": [
      "Enter your annual salary: 300000\n",
      "Best savings rate: 0.2206\n",
      "Steps in bisection search: 9\n"
     ]
    }
   ],
   "source": [
    "annual_salary = float(input('Enter your annual salary: '))\n",
    "semi_annual_raise = 0.07\n",
    "r = 0.04\n",
    "portion_down_payment = 0.25\n",
    "total_cost = 1000000\n",
    "steps = 0\n",
    "current_savings = 0\n",
    "low = 0\n",
    "high = 10000\n",
    "guess_rate = (high + low)//2\n",
    "# Use a while loop since we check UNTIL something happens.\n",
    "while abs(current_savings - total_cost*portion_down_payment) >= 100:\n",
    "    # Reset current_savings at the beginning of the loop\n",
    "    current_savings = 0\n",
    "    # Create a new variable for use within the for loop.\n",
    "    for_annual_salary = annual_salary\n",
    "    # convert guess_rate into a float\n",
    "    rate = guess_rate/10000\n",
    "    # Since we have a finite number of months, use a for loop to calculate\n",
    "    # amount saved in that time.`enter code here`\n",
    "    for month in range(36):\n",
    "        # With indexing starting a zero, we need to calculate at the beginning\n",
    "        # of the loop.\n",
    "        if month % 6 == 0 and month > 0:\n",
    "            for_annual_salary += for_annual_salary*semi_annual_raise\n",
    "        # Set monthly_salary inside loop where annual_salary is modified\n",
    "        monthly_salary = for_annual_salary/12\n",
    "        # Calculate current savings\n",
    "        current_savings += monthly_salary*rate+current_savings*r/12\n",
    "    # The statement that makes this a bisection search\n",
    "    if current_savings < total_cost*portion_down_payment:\n",
    "        low = guess_rate\n",
    "    else:\n",
    "        high = guess_rate\n",
    "    guess_rate = (high + low)//2\n",
    "    steps += 1\n",
    "    # The max amount of guesses needed is log base 2 of 10000 which is slightly\n",
    "    # above 13. Once it gets to the 14th guess it breaks out of the while loop.\n",
    "    if steps > 13:\n",
    "        break\n",
    "\n",
    "# output\n",
    "if steps > 13:\n",
    "    print('It is not possible to pay the down payment in three years.')\n",
    "else:\n",
    "    print('Best savings rate:',rate)\n",
    "    print('Steps in bisection search:', steps)"
   ]
  },
  {
   "cell_type": "code",
   "execution_count": null,
   "id": "aed485da",
   "metadata": {},
   "outputs": [],
   "source": []
  }
 ],
 "metadata": {
  "kernelspec": {
   "display_name": "Python 3 (ipykernel)",
   "language": "python",
   "name": "python3"
  },
  "language_info": {
   "codemirror_mode": {
    "name": "ipython",
    "version": 3
   },
   "file_extension": ".py",
   "mimetype": "text/x-python",
   "name": "python",
   "nbconvert_exporter": "python",
   "pygments_lexer": "ipython3",
   "version": "3.9.12"
  }
 },
 "nbformat": 4,
 "nbformat_minor": 5
}
